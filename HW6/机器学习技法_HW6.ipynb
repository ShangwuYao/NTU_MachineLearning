{
 "cells": [
  {
   "cell_type": "code",
   "execution_count": 129,
   "metadata": {
    "collapsed": false
   },
   "outputs": [],
   "source": [
    "import numpy as np\n",
    "import pandas as pd\n",
    "import scipy.linalg as lin"
   ]
  },
  {
   "cell_type": "code",
   "execution_count": 348,
   "metadata": {
    "collapsed": false
   },
   "outputs": [
    {
     "name": "stdout",
     "output_type": "stream",
     "text": [
      "Ein(g1)： 0.0\n",
      "Eout(g1)： 0.132\n"
     ]
    }
   ],
   "source": [
    "def load_data(input):\n",
    "    # 以后这样读数据\n",
    "    # 一开始就变成array了，就不用一直担心是list还是array了，而且一直可以用numpy\n",
    "    # regex, \\s space, + at least once, use what to seperate the origin string\n",
    "    data = pd.read_csv(input, sep='\\s+', header = None)\n",
    "    # easily process as numpy array  (NOT matrix)\n",
    "    data = data.as_matrix()\n",
    "    row, col = data.shape\n",
    "    X = data[:, 0:col - 1]\n",
    "    Y = data[:, col - 1: col]\n",
    "    return X, Y\n",
    "\n",
    "def ada_boost(X, Y, T):\n",
    "    # 注意用的都是一维向量，初始化用np.zeros((T,))\n",
    "    row, col = X.shape\n",
    "    U = np.ones((row, 1))/row\n",
    "    Xsort = np.sort(X, 0)\n",
    "    thres = (np.r_[Xsort[0:1,:] - 0.1, Xsort[0:row-1, :]] + Xsort) / 2\n",
    "    theta = np.zeros((T,))\n",
    "    s = np.zeros((T,))\n",
    "    index = np.zeros((T,)).astype(int)\n",
    "    alpha = np.zeros((T,))\n",
    "    err = np.zeros((T,))\n",
    "    \n",
    "    for i in range(T):\n",
    "        # one gt for each iteration\n",
    "        err[i], theta[i], s[i], index[i] = decision_stump(X, Y, thres, U)\n",
    "        yhat = s[i] * np.sign(X[:, index[i]:index[i]+1]-theta[i])\n",
    "        delta = np.sqrt((1-err[i])/err[i])\n",
    "        # this is interesting, use boolean for index\n",
    "        U[yhat == Y] /= delta\n",
    "        U[yhat != Y] *= delta\n",
    "        # question 14\n",
    "        #if i == T-1:\n",
    "        #    print('sum(U): ', np.sum(U))\n",
    "        alpha[i] = np.log(delta)\n",
    "        U /= np.sum(U)  # guarantee sum U = 1\n",
    "    # question 16\n",
    "    #print(np.min(err))\n",
    "    return theta, index, s, alpha\n",
    "\n",
    "def decision_stump(X, Y, thres, U):\n",
    "    row, col = X.shape\n",
    "    r, c = thres.shape\n",
    "    besterr = 1; btheta = 0; bs = 0; index = 0\n",
    "    for i in range(col):\n",
    "        # 先要想清楚矩阵结构，i和theta的组合，所以矩阵是把xi复制theta长度遍，做i的循环\n",
    "        # 矩阵之间加减法和布尔运算与.dot是完全不同的，第n项对第n项，比如这里是左边第一行全部 - 右边第一行(也就是1)\n",
    "        # 要搞懂这个矩阵运算，注意下面这两种写法是等价的。利用矩阵运算简化（免得用for 循环）\n",
    "        #Yhat1 = np.sign(np.tile(X[:, i:i+1], (1, r)).T - thres[:,i:i+1]).T\n",
    "        r, c = thres.shape\n",
    "        Yhat1 = np.sign(X[:, i:i+1] - thres[:, i:i+1].T) # 或.reshape(1,r)\n",
    "        \n",
    "        err1 = (Yhat1!=Y).T.dot(U)\n",
    "        err2 = (-1*Yhat1!=Y).T.dot(U)\n",
    "        s = 1 if np.min(err1) < np.min(err2) else -1\n",
    "        if s == 1 and np.min(err1) < besterr:\n",
    "            besterr = np.min(err1)\n",
    "            bs = 1\n",
    "            index = i\n",
    "            btheta = thres[np.argmin(err1), i]  # find the index of the min in array err1\n",
    "        if s == -1 and np.min(err2) < besterr:\n",
    "            besterr = np.min(err2)\n",
    "            bs = -1\n",
    "            index = i\n",
    "            btheta = thres[np.argmin(err2), i]\n",
    "    return besterr, btheta, bs, index\n",
    "    \n",
    "# 预测函数\n",
    "def predict(X, theta, index, s, alpha):\n",
    "    row, col = X.shape\n",
    "    num = len(theta)\n",
    "    # 矩阵和矩阵，一一对应\n",
    "    # s.reshape((1, num))是放在矩阵里，俩括号\n",
    "    # X[:, index]并不是一列，而是很多列, 把index这个向量当做索引，结果是一个矩阵，第i列是X[index[i]]\n",
    "    #ytemp = np.tile(s, (row, 1))*np.sign(X[:, index]-theta)\n",
    "    # 构造矩阵的思路要明确，i和t的矩阵\n",
    "    ytemp = s*np.sign(X[:, index]-theta)\n",
    "    yhat = np.sign(ytemp.dot(alpha.reshape(num, 1)))\n",
    "    return yhat\n",
    "\n",
    "def main():\n",
    "    TRAIN_DATA = 'adaboost_train.dat'\n",
    "    TEST_DATA = 'adaboost_test.dat'\n",
    "    T = 300\n",
    "    \n",
    "    X_train, Y_train = load_data(TRAIN_DATA)\n",
    "    row, col = X_train.shape\n",
    "    X_test, Y_test = load_data(TEST_DATA)\n",
    "    theta, index, s, alpha = ada_boost(X_train, Y_train, T)\n",
    "    yhat_train = predict(X_train, theta, index, s, alpha)\n",
    "    yhat_test = predict(X_test, theta, index, s, alpha)\n",
    "    print('Ein(g1)：', np.sum(yhat_train!=Y_train)/row)\n",
    "    print('Eout(g1)：', np.sum(yhat_test!=Y_test)/len(Y_test))\n",
    "    \n",
    "if __name__ == '__main__':\n",
    "    main()"
   ]
  },
  {
   "cell_type": "code",
   "execution_count": 352,
   "metadata": {
    "collapsed": false
   },
   "outputs": [
    {
     "name": "stdout",
     "output_type": "stream",
     "text": [
      "最小的Ein:  0.0\n",
      "最小的Eout:  0.39\n"
     ]
    }
   ],
   "source": [
    "def matK(X, X1, gamma):\n",
    "    row, col = X.shape\n",
    "    r, c = X1.shape\n",
    "    K = np.zeros((row, r))\n",
    "    for i in range(r):\n",
    "        K[:,i] = np.exp(-gamma*np.sum((X - X1[i,:])**2, 1))\n",
    "    return K\n",
    "\n",
    "def main():\n",
    "    FULL_DATA = 'lssvm_all.dat'\n",
    "    X_full, Y_full = load_data(FULL_DATA)\n",
    "    Xtrain = X_full[0:400, :]\n",
    "    Ytrain = Y_full[0:400, :]\n",
    "    Xtest = X_full[400: ,:]\n",
    "    Ytest = Y_full[400: ,:]\n",
    "    \n",
    "    gamma = [32, 2, 0.125]\n",
    "    lamb = [0.001, 1, 1000]\n",
    "    Ein = np.zeros((len(gamma), len(lamb)))\n",
    "    Eout = np.zeros((len(gamma), len(lamb)))\n",
    "    for i in range(len(gamma)):\n",
    "        K = matK(Xtrain, Xtrain, gamma[i])\n",
    "        K2 = matK(Xtrain, Xtest, gamma[i])\n",
    "        for j in range(len(lamb)):\n",
    "            beta = lin.pinv(lamb[j]*np.eye(len(Ytrain))+K).dot(Ytrain)\n",
    "            # predict\n",
    "            # K和beta的有两种可能组合，两种互为转置矩阵，而且一种奇大，一种很小\n",
    "            # K并不是对称的，一边是X, 一边是X1，而要对应Y，所以有讲究\n",
    "            # 其实很简单，为什么一个很大，是因为和Y的方向不同，所以比较了m*m次，而应该只比较m次\n",
    "            Y_in_predict = np.sign(K.T.dot(beta))\n",
    "            #print(np.sum(np.sign(K.T.dot(beta)).T != np.sign(beta.T.dot(K))))\n",
    "            Ein[i,j] = np.sum(Ytrain != Y_in_predict)/len(Ytrain)\n",
    "            Y_out_predict = np.sign(K2.T.dot(beta))\n",
    "            Eout[i,j] = np.sum(Ytest != Y_out_predict)/len(Ytest)\n",
    "        \n",
    "    print('最小的Ein: ', np.min(Ein))\n",
    "    print('最小的Eout: ', np.min(Eout))\n",
    "\n",
    "if __name__ == '__main__':\n",
    "    main()"
   ]
  }
 ],
 "metadata": {
  "anaconda-cloud": {},
  "kernelspec": {
   "display_name": "Python [default]",
   "language": "python",
   "name": "python3"
  },
  "language_info": {
   "codemirror_mode": {
    "name": "ipython",
    "version": 3
   },
   "file_extension": ".py",
   "mimetype": "text/x-python",
   "name": "python",
   "nbconvert_exporter": "python",
   "pygments_lexer": "ipython3",
   "version": "3.5.2"
  }
 },
 "nbformat": 4,
 "nbformat_minor": 1
}
