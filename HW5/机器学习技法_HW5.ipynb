{
 "cells": [
  {
   "cell_type": "code",
   "execution_count": 14,
   "metadata": {
    "collapsed": false
   },
   "outputs": [
    {
     "name": "stdout",
     "output_type": "stream",
     "text": [
      "[1 4 4 5 7 7 7]\n",
      "[-2 -5 -1 -2 -7  1  1]\n"
     ]
    },
    {
     "data": {
      "image/png": "[encoded data removed]",
      "text/plain": [
       "<matplotlib.figure.Figure at 0x90be048>"
      ]
     },
     "metadata": {},
     "output_type": "display_data"
    }
   ],
   "source": [
    "import numpy as np\n",
    "x1 = np.array([1,0,0,-1,0,0,-2])\n",
    "x2 = np.array([0,1,-1,0,2,-2,0])\n",
    "y = np.array([-1,-1,-1,1,1,1,1])\n",
    "\n",
    "R1 = x2*x2 - 2*x1 + 3\n",
    "R2 = x1*x1 - 2*x2 - 3\n",
    "\n",
    "for i in range(len(y)):\n",
    "    if y[i] == -1:\n",
    "        plt.plot(R1[i],R2[i], 'or')\n",
    "    else:\n",
    "        plt.plot(R1[i],R2[i], 'ob')\n",
    "        \n",
    "print(R1)\n",
    "print(R2)\n",
    "plt.xlim(0, 8)\n",
    "plt.ylim(-8, 2)\n",
    "plt.show()"
   ]
  },
  {
   "cell_type": "code",
   "execution_count": 100,
   "metadata": {
    "collapsed": false
   },
   "outputs": [],
   "source": [
    "# %cd F://program//cvxopt-master\n",
    "# %run setup.py install"
   ]
  },
  {
   "cell_type": "code",
   "execution_count": 99,
   "metadata": {
    "collapsed": false,
    "scrolled": true
   },
   "outputs": [
    {
     "name": "stdout",
     "output_type": "stream",
     "text": [
      "[0.1]\n",
      "0\n",
      "0.1618963598791925\n",
      "1\n",
      "0.13187251629311714\n",
      "2\n",
      "0.1637323160069941\n",
      "3\n",
      "0.16357176919408672\n",
      "0.13187251629311714\n",
      "10.0\n"
     ]
    }
   ],
   "source": [
    "from sklearn.svm import SVC\n",
    "from math import pow\n",
    "import random\n",
    "\n",
    "def load_data(input_file):\n",
    "    f = open(input_file)\n",
    "    X = []\n",
    "    Y = []\n",
    "    for line in f:\n",
    "        strs = line.split()\n",
    "        Y.append(float(strs[0]))\n",
    "        x = [float(v) for v in strs[1:]]\n",
    "        X.append(x)\n",
    "    return X, Y\n",
    "\n",
    "def sign(x):\n",
    "    if x > 0:\n",
    "        return 1\n",
    "    else: \n",
    "        return -1\n",
    "\n",
    "def calculate_error(Y_1, Y_2):\n",
    "    n = len(Y_2)\n",
    "    count = 0\n",
    "    for i in range(len(Y_2)):\n",
    "        if Y_1[i] != Y_2[i]:\n",
    "            count = count + 1\n",
    "    return count / n\n",
    "\n",
    "def to_perceptron(Y):\n",
    "    Y_temp = []\n",
    "    for k in range(len(Y)):\n",
    "        if Y[k] == 0:\n",
    "            Y_temp.append(1)\n",
    "        else: \n",
    "            Y_temp.append(-1)\n",
    "    return Y_temp\n",
    "    \n",
    "TRAIN_DATA = 'train_data.dat'\n",
    "TEST_DATA = 'test_data.dat'\n",
    "\n",
    "def main():\n",
    "    X_train, Y_train = load_data(TRAIN_DATA)\n",
    "    X_test, Y_test = load_data(TEST_DATA)\n",
    "    \n",
    "    # train it as 0 and non-0\n",
    "    Y_temp_train = to_perceptron(Y_train)\n",
    "    Y_temp_test = to_perceptron(Y_test)\n",
    "    \n",
    "    C = [pow(10, v) for v in [-1]]\n",
    "    print(C)\n",
    "    gamma = [pow(10, v) for v in [0, 1, 2, 3]]\n",
    "    E_cv_best = 1\n",
    "    gamma_best = 0\n",
    "    indexs = [i for i in range(len(Y_train))]\n",
    "    for i in range(len(gamma)):\n",
    "        print(i)\n",
    "        E_sum = 0\n",
    "        for j in range(100):\n",
    "            # question 15\n",
    "            # clf = SVC(C = C[i], kernel = 'linear', shrinking = False)\n",
    "            # question 16\n",
    "            # clf = SVC(C = C[i], kernel = 'poly', degree = 2, shrinking = False)\n",
    "            # question 18\n",
    "            # clf = SVC(C = C[i], kernel = 'rbf', gamma = 100, shrinking = False)\n",
    "            # question 19\n",
    "            clf = SVC(C = 0.1, kernel = 'rbf', gamma = gamma[i], shrinking = False)\n",
    "            random.shuffle(indexs)\n",
    "            X_sample = [X_train[m] for m in indexs[:1000]]\n",
    "            Y_sample = [Y_temp_train[m] for m in indexs[:1000]]\n",
    "            X_val = [X_train[m] for m in indexs[1000:]]\n",
    "            Y_val = [Y_temp_train[m] for m in indexs[1000:]]\n",
    "            \n",
    "            clf.fit(np.array(X_sample), np.array(Y_sample))\n",
    "            Y_result = clf.predict(np.array(X_val))\n",
    "            E_val = calculate_error(Y_result, Y_val)\n",
    "            E_sum = E_sum + E_val\n",
    "            # print (np.sum(clf.n_support_))\n",
    "            # print (Eout)\n",
    "            # print (np.abs(clf.decision_function(clf.support_vectors_[0])))\n",
    "            # print(np.linalg.norm(clf.coef_))\n",
    "            # question 17\n",
    "            # print(Ein)\n",
    "            # sum_alpha\n",
    "            # print(np.sum(np.abs(clf.dual_coef_)))\n",
    "        E_cv = E_sum / 100\n",
    "        print (E_cv)\n",
    "        # choose best gamma according to E_val\n",
    "        if E_cv < E_cv_best:\n",
    "            E_cv_best = E_cv\n",
    "            gamma_best = gamma[i]\n",
    "    print(E_cv_best)\n",
    "    print(gamma_best)\n",
    "            \n",
    "        \n",
    "    \n",
    "if __name__ == '__main__':\n",
    "    main()"
   ]
  }
 ],
 "metadata": {
  "anaconda-cloud": {},
  "kernelspec": {
   "display_name": "Python [conda root]",
   "language": "python",
   "name": "conda-root-py"
  },
  "language_info": {
   "codemirror_mode": {
    "name": "ipython",
    "version": 3
   },
   "file_extension": ".py",
   "mimetype": "text/x-python",
   "name": "python",
   "nbconvert_exporter": "python",
   "pygments_lexer": "ipython3",
   "version": "3.5.2"
  }
 },
 "nbformat": 4,
 "nbformat_minor": 1
}
